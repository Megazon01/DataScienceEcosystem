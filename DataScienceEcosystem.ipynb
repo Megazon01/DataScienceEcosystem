{
 "cells": [
  {
   "cell_type": "markdown",
   "id": "e75a3041-eda5-4d3e-a2c4-17293e4ea20f",
   "metadata": {},
   "source": [
    "# Data Science Tools and Ecosystem"
   ]
  },
  {
   "cell_type": "markdown",
   "id": "0c644d84-c5e5-4a85-8e01-d757198a7ede",
   "metadata": {},
   "source": [
    "In this notebook, Data Science Tools and Ecosystem are summarized."
   ]
  },
  {
   "cell_type": "markdown",
   "id": "26f004dd-dcc4-4289-bc50-953f491c0d62",
   "metadata": {},
   "source": [
    "**Objectives:**\n",
    "* List popular languages for Data Science\n",
    "* List popular libraries for Data Science\n",
    "* Evaluate arrithmetic expressions"
   ]
  },
  {
   "cell_type": "markdown",
   "id": "d7423882-888c-4b39-80c1-fcd5772d4f97",
   "metadata": {},
   "source": [
    "Some of the popular languages that Data Scientists use are:\n",
    "1. Python\n",
    "2. R\n",
    "3. SQL"
   ]
  },
  {
   "cell_type": "markdown",
   "id": "e0b39257-ba61-47a3-9c97-97682740d67f",
   "metadata": {},
   "source": [
    "Some of the commonly used libraries used by Data Scientists include:\n",
    "1. Pandas\n",
    "2. NumPy\n",
    "3. Matplotlib"
   ]
  },
  {
   "cell_type": "markdown",
   "id": "2a33a6b4-4e5d-4992-bf62-6961d67e6cd0",
   "metadata": {},
   "source": [
    "|Data Science Tools|\n",
    "|--|\n",
    "|Jupyter Notebook|\n",
    "|RStudio|\n",
    "|Spyder|"
   ]
  },
  {
   "cell_type": "markdown",
   "id": "5fa5c046-30bb-4d42-9813-0edcc50594d7",
   "metadata": {},
   "source": [
    "### Below are a few examples of evaluating arithmetic expressions in Python\n",
    "5+5  \n",
    "7*3 "
   ]
  },
  {
   "cell_type": "code",
   "execution_count": 6,
   "id": "809460de-4733-46db-93d8-9f5f85869ed4",
   "metadata": {},
   "outputs": [
    {
     "data": {
      "text/plain": [
       "17"
      ]
     },
     "execution_count": 6,
     "metadata": {},
     "output_type": "execute_result"
    }
   ],
   "source": [
    "# This a simple arithmetic expression to mutiply then add integers\n",
    "(3*4)+5"
   ]
  },
  {
   "cell_type": "code",
   "execution_count": 11,
   "id": "83d91e72-9b16-4d87-8cec-bcc903e24014",
   "metadata": {},
   "outputs": [
    {
     "name": "stdout",
     "output_type": "stream",
     "text": [
      "3.33 hours\n"
     ]
    }
   ],
   "source": [
    "# This will convert 200 minutes to hours by diving by 60, then rounding to 2 d.p.\n",
    "minutes = 200\n",
    "hours = minutes/60\n",
    "print(f\"{round(hours,2)} hours\")"
   ]
  },
  {
   "cell_type": "markdown",
   "id": "2daaced0-334c-45ee-961e-89bd3d67c57a",
   "metadata": {
    "jp-MarkdownHeadingCollapsed": true
   },
   "source": [
    "## Author\n",
    "Petros"
   ]
  },
  {
   "cell_type": "code",
   "execution_count": null,
   "id": "fbd3f9f2-33c9-4eac-ba6d-0e79134e71e9",
   "metadata": {},
   "outputs": [],
   "source": []
  }
 ],
 "metadata": {
  "kernelspec": {
   "display_name": "Python 3 (ipykernel)",
   "language": "python",
   "name": "python3"
  },
  "language_info": {
   "codemirror_mode": {
    "name": "ipython",
    "version": 3
   },
   "file_extension": ".py",
   "mimetype": "text/x-python",
   "name": "python",
   "nbconvert_exporter": "python",
   "pygments_lexer": "ipython3",
   "version": "3.13.2"
  }
 },
 "nbformat": 4,
 "nbformat_minor": 5
}
